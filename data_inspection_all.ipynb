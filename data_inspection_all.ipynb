{
 "cells": [
  {
   "cell_type": "code",
   "execution_count": 1,
   "metadata": {},
   "outputs": [],
   "source": [
    "import numpy as np\n",
    "import pandas as pd\n",
    "import seaborn as sns\n",
    "import matplotlib.pyplot as plt\n",
    "from glob import glob\n",
    "import imblearn\n",
    "from collections import Counter"
   ]
  },
  {
   "cell_type": "code",
   "execution_count": 2,
   "metadata": {},
   "outputs": [
    {
     "data": {
      "text/plain": [
       "['../Maisha_IDT_results/GJ-1132b__Slife.npz',\n",
       " '../Maisha_IDT_results/TRAPPIST-1e__Slife.npz',\n",
       " '../Maisha_IDT_results/LHS-1140c__Slife.npz',\n",
       " '../Maisha_IDT_results/Mars__Slife.npz',\n",
       " '../Maisha_IDT_results/TRAPPIST-1g__Slife.npz',\n",
       " '../Maisha_IDT_results/Venus__Slife.npz',\n",
       " '../Maisha_IDT_results/Mercury__Slife.npz',\n",
       " '../Maisha_IDT_results/Simulated_01__Slife.npz',\n",
       " '../Maisha_IDT_results/LHS-1140b__Slife.npz',\n",
       " '../Maisha_IDT_results/TRAPPIST-1d__Slife.npz',\n",
       " '../Maisha_IDT_results/Europa2__Slife.npz',\n",
       " '../Maisha_IDT_results/K2-18b__Slife.npz',\n",
       " '../Maisha_IDT_results/Europa__Slife.npz',\n",
       " '../Maisha_IDT_results/Earth__Slife.npz',\n",
       " '../Maisha_IDT_results/TRAPPIST-1f__Slife.npz']"
      ]
     },
     "execution_count": 2,
     "metadata": {},
     "output_type": "execute_result"
    }
   ],
   "source": [
    "files = glob('../Maisha_IDT_results/*__Slife.npz')\n",
    "files.remove('../Maisha_IDT_results/Earth_TeqTsurf__Slife.npz')\n",
    "files.remove('../Maisha_IDT_results/Earth_pH__Slife.npz')\n",
    "files.remove('../Maisha_IDT_results/Moon__Slife.npz')\n",
    "files"
   ]
  },
  {
   "cell_type": "code",
   "execution_count": 11,
   "metadata": {},
   "outputs": [
    {
     "name": "stdout",
     "output_type": "stream",
     "text": [
      "['Slife', 'SLsurf', 'SLsub', 'pnames', 'pvalues']\n"
     ]
    }
   ],
   "source": [
    "table = np.load(files[4])\n",
    "print(table.files)\n"
   ]
  },
  {
   "cell_type": "code",
   "execution_count": 12,
   "metadata": {},
   "outputs": [
    {
     "name": "stdout",
     "output_type": "stream",
     "text": [
      "['Teff' 'age' 'Lx' 'Rs' 'loc' 'rho' 'Rp' 'Psurf' 'WMF' 'Tsurf' 'Teq'\n",
      " 'Bfield' 'pH' 'sal' 'Aw']\n"
     ]
    }
   ],
   "source": [
    "print(table['pnames'])\n"
   ]
  },
  {
   "cell_type": "code",
   "execution_count": 13,
   "metadata": {},
   "outputs": [
    {
     "name": "stdout",
     "output_type": "stream",
     "text": [
      "(10000, 18)\n"
     ]
    }
   ],
   "source": [
    "print(table['pvalues'].shape)\n"
   ]
  },
  {
   "cell_type": "code",
   "execution_count": 14,
   "metadata": {},
   "outputs": [
    {
     "name": "stdout",
     "output_type": "stream",
     "text": [
      "(100,)\n",
      "(100,)\n",
      "(100,)\n"
     ]
    }
   ],
   "source": [
    "print(table['Slife'].shape)\n",
    "print(table['SLsurf'].shape)\n",
    "print(table['SLsub'].shape)\n"
   ]
  },
  {
   "cell_type": "code",
   "execution_count": 15,
   "metadata": {},
   "outputs": [
    {
     "data": {
      "text/plain": [
       "array([94., 93., 96., 92., 93., 91., 98., 90., 94., 97., 91., 92., 98.,\n",
       "       90., 94., 92., 93., 94., 92., 91., 95., 92., 95., 92., 97., 95.,\n",
       "       91., 88., 92., 95., 90., 96., 92., 93., 91., 99., 94., 92., 94.,\n",
       "       90., 97., 89., 93., 91., 91., 93., 91., 91., 96., 97., 96., 93.,\n",
       "       93., 94., 93., 89., 95., 88., 91., 98., 94., 94., 88., 88., 96.,\n",
       "       94., 93., 93., 96., 92., 89., 96., 95., 94., 95., 91., 91., 93.,\n",
       "       95., 93., 89., 93., 95., 95., 91., 92., 91., 92., 96., 92., 88.,\n",
       "       96., 94., 93., 92., 90., 89., 92., 92., 89.])"
      ]
     },
     "execution_count": 15,
     "metadata": {},
     "output_type": "execute_result"
    }
   ],
   "source": [
    "table['Slife']\n"
   ]
  },
  {
   "cell_type": "code",
   "execution_count": 16,
   "metadata": {},
   "outputs": [
    {
     "name": "stdout",
     "output_type": "stream",
     "text": [
      "no data_all defined\n",
      "GJ-1132b 18 (10000, 19)\n",
      "TRAPPIST-1e 18 (10000, 19)\n",
      "ok\n",
      "(20000, 19)\n",
      "LHS-1140c 18 (10000, 19)\n",
      "ok\n",
      "(30000, 19)\n",
      "Mars 18 (10000, 19)\n",
      "ok\n",
      "(40000, 19)\n",
      "TRAPPIST-1g 18 (10000, 19)\n",
      "ok\n",
      "(50000, 19)\n",
      "Venus 18 (10000, 19)\n",
      "ok\n",
      "(60000, 19)\n",
      "Mercury 18 (10000, 19)\n",
      "ok\n",
      "(70000, 19)\n",
      "Simulated_01 18 (10000, 19)\n",
      "ok\n",
      "(80000, 19)\n",
      "LHS-1140b 18 (10000, 19)\n",
      "ok\n",
      "(90000, 19)\n",
      "TRAPPIST-1d 18 (10000, 19)\n",
      "ok\n",
      "(100000, 19)\n",
      "Europa2 18 (10000, 19)\n",
      "ok\n",
      "(110000, 19)\n",
      "K2-18b 18 (10000, 19)\n",
      "ok\n",
      "(120000, 19)\n",
      "Europa 18 (10000, 19)\n",
      "ok\n",
      "(130000, 19)\n",
      "Earth 18 (10000, 19)\n",
      "ok\n",
      "(140000, 19)\n",
      "TRAPPIST-1f 18 (10000, 19)\n",
      "ok\n",
      "(150000, 19)\n",
      "(150000, 19)\n"
     ]
    }
   ],
   "source": [
    "try:\n",
    "    data_all\n",
    "    del data_all\n",
    "except:\n",
    "    print('no data_all defined')\n",
    "    \n",
    "col = ['Teff', 'age', 'Lx', 'Rs', 'loc', 'Teq', 'Bfield', 'rho', 'Rp', \n",
    "       'Psurf', 'WMF', 'Tsurf', 'sal', 'pH', 'Aw', 'Life_Surf', 'Life_Sub', 'Life', 'Planet']\n",
    "\n",
    "\n",
    "for i in range(len(files)):\n",
    "    table = np.load(files[i])\n",
    "    name = files[i].split('/')[-1].split('__')[0]\n",
    "    col_table = np.concatenate([table['pnames'],['Life_Surf','Life_Sub', 'Life']])\n",
    "\n",
    "    data = pd.DataFrame(data=table.f.pvalues, columns=col_table)\n",
    "    data['Planet'] = [name]*len(data)\n",
    "    data=data[col]\n",
    "    print(name, len(col_table),data.shape)\n",
    "    try:\n",
    "        data_all\n",
    "        print(\"ok\")\n",
    "        data_all = pd.concat([data_all,data])\n",
    "        print(data_all.shape)\n",
    "    except:\n",
    "        data_all = data.copy()\n",
    "\n",
    "data_all = data_all.reset_index(drop=True)\n",
    "print(data_all.shape)\n"
   ]
  },
  {
   "cell_type": "code",
   "execution_count": 20,
   "metadata": {},
   "outputs": [
    {
     "name": "stdout",
     "output_type": "stream",
     "text": [
      "No Life above; No Life Below: 48699\n",
      "No Life above; Yes Life Below: 81056\n",
      "Yes Life above; No Life Below: 0\n",
      "Yes Life above; Yes Life Below: 10427\n",
      "\n",
      "Yes Life: 91483\n",
      "No Life: 48699\n",
      "NaN Life (????): 9818\n"
     ]
    }
   ],
   "source": [
    "data_all['Life_4comb'] = np.zeros(len(data_all))\n",
    "f_nA_nB = (data_all['Life_Surf'] == 0) & (data_all['Life_Sub'] == 0) #0\n",
    "f_nA_yB = (data_all['Life_Surf'] == 0) & (data_all['Life_Sub'] == 1) #1\n",
    "f_yA_nB = (data_all['Life_Surf'] == 1) & (data_all['Life_Sub'] == 0) #2\n",
    "f_yA_yB = (data_all['Life_Surf'] == 1) & (data_all['Life_Sub'] == 1) #3\n",
    "data_all.loc[f_nA_yB,'Life_4comb']=1\n",
    "data_all.loc[f_yA_nB,'Life_4comb']=3 # THIS CASE DOES NOT EXIST IN THE DATASET\n",
    "data_all.loc[f_yA_yB,'Life_4comb']=2\n",
    "\n",
    "print(\"No Life above; No Life Below: {}\".format(len(data_all[f_nA_nB])))\n",
    "print(\"No Life above; Yes Life Below: {}\".format(len(data_all[f_nA_yB])))\n",
    "print(\"Yes Life above; No Life Below: {}\".format(len(data_all[f_yA_nB])))\n",
    "print(\"Yes Life above; Yes Life Below: {}\".format(len(data_all[f_yA_yB])))\n",
    "print(\"\")\n",
    "print(\"Yes Life: {}\".format(len(data_all[(data_all['Life'] == 1)])))\n",
    "print(\"No Life: {}\".format(len(data_all[(data_all['Life'] == 0)])))\n",
    "print(\"NaN Life (????): {}\".format(len(data_all[np.isnan(data_all['Life'])])))\n"
   ]
  },
  {
   "cell_type": "code",
   "execution_count": 21,
   "metadata": {},
   "outputs": [
    {
     "data": {
      "text/plain": [
       "10        0.0\n",
       "52        0.0\n",
       "95        0.0\n",
       "98        0.0\n",
       "113       0.0\n",
       "         ... \n",
       "139966    0.0\n",
       "139978    0.0\n",
       "139986    0.0\n",
       "139996    0.0\n",
       "139998    0.0\n",
       "Name: Life_4comb, Length: 9818, dtype: float64"
      ]
     },
     "execution_count": 21,
     "metadata": {},
     "output_type": "execute_result"
    }
   ],
   "source": [
    "data_all[np.isnan(data_all['Life'])].Life_4comb"
   ]
  },
  {
   "cell_type": "code",
   "execution_count": 7,
   "metadata": {},
   "outputs": [],
   "source": [
    "data_all.to_csv('../tables/data_all.csv', index=False)"
   ]
  },
  {
   "cell_type": "code",
   "execution_count": 22,
   "metadata": {},
   "outputs": [
    {
     "name": "stderr",
     "output_type": "stream",
     "text": [
      "/Users/lspina/anaconda2/envs/py36/lib/python3.6/site-packages/numpy/lib/histograms.py:834: RuntimeWarning: invalid value encountered in greater_equal\n",
      "  keep = (tmp_a >= first_edge)\n",
      "/Users/lspina/anaconda2/envs/py36/lib/python3.6/site-packages/numpy/lib/histograms.py:835: RuntimeWarning: invalid value encountered in less_equal\n",
      "  keep &= (tmp_a <= last_edge)\n"
     ]
    },
    {
     "data": {
      "image/png": "[encoded data removed]",
      "text/plain": [
       "<Figure size 1440x720 with 4 Axes>"
      ]
     },
     "metadata": {
      "needs_background": "light"
     },
     "output_type": "display_data"
    }
   ],
   "source": [
    "plt.figure(figsize=(20,10))\n",
    "plt.subplot(221)\n",
    "h = plt.hist(data_all['Life_Surf'])\n",
    "plt.xlabel('Life_Surf')\n",
    "plt.grid()\n",
    "\n",
    "plt.subplot(222)\n",
    "h = plt.hist(data_all['Life_Sub'])\n",
    "plt.xlabel('Life_Sub')\n",
    "plt.grid()\n",
    "\n",
    "plt.subplot(223)\n",
    "h = plt.hist(data_all['Life'])\n",
    "plt.xlabel('Life')\n",
    "plt.grid()\n",
    "\n",
    "plt.subplot(224)\n",
    "h = plt.hist(data_all['Life_4comb'])\n",
    "plt.xlabel('Life_4comb')\n",
    "plt.grid()\n"
   ]
  },
  {
   "cell_type": "code",
   "execution_count": 119,
   "metadata": {},
   "outputs": [
    {
     "name": "stdout",
     "output_type": "stream",
     "text": [
      "[(0.0, 58517), (1.0, 81056), (2.0, 10427)]\n"
     ]
    }
   ],
   "source": [
    "col = ['Teff', 'age', 'Lx', 'Rs', 'loc', 'Teq', 'Bfield', 'rho', 'Rp', \n",
    "       'Psurf', 'WMF', 'Tsurf', 'sal', 'pH', 'Aw']\n",
    "X = data_all[col].values\n",
    "y = data_all['Life_4comb']\n",
    "print(sorted(Counter(y).items()))"
   ]
  },
  {
   "cell_type": "code",
   "execution_count": null,
   "metadata": {},
   "outputs": [],
   "source": [
    "# define oversampling strategy\n",
    "over = RandomOverSampler(sampling_strategy=0.1)\n",
    "# fit and apply the transform\n",
    "X, y = over.fit_resample(X, y)\n",
    "# define undersampling strategy\n",
    "under = RandomUnderSampler(sampling_strategy=0.5)\n",
    "# fit and apply the transform\n",
    "X, y = under.fit_resample(X, y)"
   ]
  }
 ],
 "metadata": {
  "kernelspec": {
   "display_name": "Python 3",
   "language": "python",
   "name": "python3"
  },
  "language_info": {
   "codemirror_mode": {
    "name": "ipython",
    "version": 3
   },
   "file_extension": ".py",
   "mimetype": "text/x-python",
   "name": "python",
   "nbconvert_exporter": "python",
   "pygments_lexer": "ipython3",
   "version": "3.6.8"
  }
 },
 "nbformat": 4,
 "nbformat_minor": 2
}
